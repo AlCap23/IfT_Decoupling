{
 "cells": [
  {
   "cell_type": "code",
   "execution_count": 1,
   "metadata": {
    "collapsed": true
   },
   "outputs": [],
   "source": [
    "# Import of the needed packages\n",
    "import numpy as np\n",
    "import matplotlib.pyplot as plt\n",
    "import pandas as pd\n",
    "import control as cn\n",
    "\n",
    "plt.style.use('seaborn-paper')"
   ]
  },
  {
   "cell_type": "code",
   "execution_count": 2,
   "metadata": {
    "collapsed": true
   },
   "outputs": [],
   "source": [
    "# Define the functions\n",
    "\n",
    "# Approximation\n",
    "\n",
    "# Define the SOTD2FOTD Function\n",
    "def soptd2foptd(k1,t1,t2,l1):\n",
    "    # Compute the static gain\n",
    "    k = k1\n",
    "    # Compute the additional time delay\n",
    "    l = l1 + np.min([t1,t2])/2.\n",
    "    # Compute the lag\n",
    "    t = np.max([t1,t2]) + np.min([t1,t2])/2.\n",
    "    return k,t,l\n",
    "\n",
    "def dt2ptd2foptd(k1,t1,t2,l1,tM):\n",
    "    # Denominator -> Like SOPTD\n",
    "    k,t,l = soptd2foptd(k1,t1,t2,l1)\n",
    "    # Zeros -> Subrtact from lag, but use at least the maximum of t\n",
    "    t = np.max([t - tM,np.max([t1,t2])])\n",
    "    return k,t,l\n",
    "\n",
    "def fotdsum(k1,k2,t1,t2,l1,l2):\n",
    "    # Get the gain\n",
    "    k = k1+k2\n",
    "    # Get the delay (External Time Delay)\n",
    "    l = np.min([l1,l2]) \n",
    "    # Check if the lag is nearly identical\n",
    "    if np.abs(1.-np.min([t1,t2])/np.max([t1,t2]))>0.98:\n",
    "        t = np.max([t1,t2])\n",
    "    else:\n",
    "        t = np.max([t1,t2]) + np.min([t1,t2])/2.\n",
    "    # If there is a zero, add zero and distribute lag to delay \n",
    "    if (k1*t2+k2*t1)/k < .0:\n",
    "        l = l  - (k2*t1+k1*t2)/k + np.min([t1,t2])/2.\n",
    "        \n",
    "    # If there is no zero, subtract from lag to make system faster\n",
    "    elif (k1*t2+k2*t1)/k > .0:\n",
    "        l = l \n",
    "        t = t - (k2*t1+k1*t2)/k+np.min([t1,t2])/2.\n",
    "    return k,t,l\n",
    "\n",
    "# AMIGO\n",
    "\n",
    "def AMIGO(k,t,l):\n",
    "    if l < .1*t:\n",
    "        l = 0.1*t\n",
    "    kp = 0.15/k + (0.35 - l*t /(l+t)**2)*t/(k*l)\n",
    "    ti = 0.35*l + 13.*l*t**2 / (t**2+12.*l*t+7.*l**2)\n",
    "    ki = kp/ti\n",
    "    return kp,ti,ki\n",
    "\n",
    "def monotonicity(y,t):\n",
    "    \"\"\" Calculate the monotonicity index of a given output\"\"\"\n",
    "    IAE = np.trapz(np.abs(y),t)\n",
    "    IE = np.trapz(y,t)\n",
    "    return np.abs(IE/IAE)\n",
    "\n",
    "def fotd(k,t,l, time):\n",
    "    y = []\n",
    "    for times in time:\n",
    "        if times < l:\n",
    "            y.append(0)\n",
    "        else:\n",
    "            y.append(k*(1-np.exp(-(times-l)/t)))\n",
    "    return np.array(y), np.array(time)"
   ]
  },
  {
   "cell_type": "markdown",
   "metadata": {},
   "source": [
    "# Wood Berry Distillation Column\n",
    "\n",
    "## RHP Zeros"
   ]
  },
  {
   "cell_type": "code",
   "execution_count": 3,
   "metadata": {},
   "outputs": [
    {
     "data": {
      "image/png": "[encoded data removed]",
      "text/plain": [
       "<matplotlib.figure.Figure at 0x7f5daaa88b70>"
      ]
     },
     "metadata": {},
     "output_type": "display_data"
    }
   ],
   "source": [
    "det_WB = lambda s: -12.8*19.4/(16.7*s+1.)/(14.4*s+1.)*np.exp(-4.*s) + 6.6*18.9 / (21.0*s+1) / (10.9*s+1)* np.exp(-11.*s)\n",
    "det_WB = np.vectorize(det_WB)\n",
    "\n",
    "plt.clf()\n",
    "plt.plot(np.arange(-10,10,0.01), det_WB(np.arange(-10,10,0.01)))\n",
    "plt.ylim([-1,1])\n",
    "plt.show()"
   ]
  },
  {
   "cell_type": "markdown",
   "metadata": {},
   "source": [
    "## Static Decoupling\n",
    "\n",
    "Use the static decoupler for the system;\n",
    "\n",
    "Compute the sum of two FOPTD within the approximations and the external time delay"
   ]
  },
  {
   "cell_type": "code",
   "execution_count": 4,
   "metadata": {},
   "outputs": [
    {
     "data": {
      "image/png": "[encoded data removed]",
      "text/plain": [
       "<matplotlib.figure.Figure at 0x7f5daaa88b00>"
      ]
     },
     "metadata": {},
     "output_type": "display_data"
    },
    {
     "name": "stdout",
     "output_type": "stream",
     "text": [
      "3.0546875000000036 2.98179028133 1.0\n"
     ]
    },
    {
     "data": {
      "text/plain": [
       "(0.20717021289440479, 2.5868537602910817, 0.080085784544346755)"
      ]
     },
     "execution_count": 4,
     "metadata": {},
     "output_type": "execute_result"
    }
   ],
   "source": [
    "# Approximate the first sum of Wood Berry\n",
    "k,t,l = fotdsum(12.8,-18.9/12.8*6.6,16.7,21.0,1.0,3.0)\n",
    "# Plot the approximation and the sum\n",
    "y1,time = fotd(12.8,16.7,1.,np.arange(0,200,0.1))\n",
    "y2,time = fotd(-18.9/12.8*6.6,21.,3.,time)\n",
    "yA,time = fotd(k,t,l,time)\n",
    "\n",
    "# Plot the systems\n",
    "plt.clf()\n",
    "plt.plot(time,y1+y2)\n",
    "plt.plot(time, yA)\n",
    "plt.grid(True)\n",
    "plt.xlabel('Time')\n",
    "plt.ylabel('y')\n",
    "plt.show()\n",
    "\n",
    "# Calculate the IE,IAE and montonicity\n",
    "mon = monotonicity(y1+y2,time)\n",
    "# Print Parameter\n",
    "print(k,t,l)\n",
    "AMIGO(k,t,l)"
   ]
  },
  {
   "cell_type": "code",
   "execution_count": 5,
   "metadata": {},
   "outputs": [
    {
     "data": {
      "image/png": "[encoded data removed]",
      "text/plain": [
       "<matplotlib.figure.Figure at 0x7f5daaa88ac8>"
      ]
     },
     "metadata": {},
     "output_type": "display_data"
    },
    {
     "name": "stdout",
     "output_type": "stream",
     "text": [
      "-12.970103092783503 16.1351164454 3.0\n"
     ]
    },
    {
     "data": {
      "text/plain": [
       "(-0.10188122335533614, 12.279006845128794, -0.0082971876015977171)"
      ]
     },
     "execution_count": 5,
     "metadata": {},
     "output_type": "execute_result"
    }
   ],
   "source": [
    "# Approximate the second sum of Wood Berry\n",
    "k,t,l = fotdsum(-19.4,6.6/19.4*18.9,14.4,10.9,3.,7.)\n",
    "# Plot the approximation and the sum\n",
    "y1,time = fotd(-19.4,14.4,3.0,np.arange(0,200,0.1))\n",
    "y2,time = fotd(6.6/19.4*18.9,10.9,7.0,time)\n",
    "yA,time = fotd(k,t,l,time)\n",
    "\n",
    "# Plot the systems\n",
    "plt.clf()\n",
    "plt.plot(time,y1+y2)\n",
    "plt.plot(time, yA)\n",
    "plt.grid(True)\n",
    "plt.xlabel('Time')\n",
    "plt.ylabel('y')\n",
    "plt.show()\n",
    "\n",
    "# Print Parameter\n",
    "print(k,t,l)\n",
    "AMIGO(k,t,l)"
   ]
  },
  {
   "cell_type": "markdown",
   "metadata": {},
   "source": [
    "## Dynamic Simple Decoupling\n",
    "\n",
    "Approximate the SOPTD systems"
   ]
  },
  {
   "cell_type": "code",
   "execution_count": 25,
   "metadata": {},
   "outputs": [
    {
     "data": {
      "image/png": "[encoded data removed]",
      "text/plain": [
       "<matplotlib.figure.Figure at 0x7f5da5e12518>"
      ]
     },
     "metadata": {},
     "output_type": "display_data"
    },
    {
     "data": {
      "text/plain": [
       "(-9.745312499999997, 12.049999999999999, 12.449999999999999)"
      ]
     },
     "execution_count": 25,
     "metadata": {},
     "output_type": "execute_result"
    }
   ],
   "source": [
    "# Approximate the trasnfer function model\n",
    "k,t,l = dt2ptd2foptd(-18.9/12.8*6.6,21.,10.9,7.0,14.4)\n",
    "# Exact model\n",
    "tf = -18.9/12.8*6.6*cn.tf([14.4,1],[21.0*10.9,21.0+10.9,1])\n",
    "num, den = cn.pade(7,10)\n",
    "tf = tf*cn.tf(num,den)\n",
    "y, time = cn.step(tf,np.arange(0,200,0.1))\n",
    "yM, time = fotd(k,t,l, time)\n",
    "# Plot the systems\n",
    "plt.clf()\n",
    "plt.plot(time,y)\n",
    "plt.plot(time, yM)\n",
    "plt.grid(True)\n",
    "plt.xlabel('Time')\n",
    "plt.ylabel('y')\n",
    "plt.show()\n",
    "k,t,l"
   ]
  },
  {
   "cell_type": "code",
   "execution_count": 26,
   "metadata": {},
   "outputs": [
    {
     "data": {
      "image/png": "[encoded data removed]",
      "text/plain": [
       "<matplotlib.figure.Figure at 0x7f5da69e4898>"
      ]
     },
     "metadata": {},
     "output_type": "display_data"
    },
    {
     "name": "stdout",
     "output_type": "stream",
     "text": [
      "3.0546875000000036 22.725 9.80980818414\n",
      "3.05526470076 1.87358633487 1.92220176826\n"
     ]
    },
    {
     "data": {
      "text/plain": [
       "(0.081011252064185163, 1.8811556081959409, 0.043064620338280409)"
      ]
     },
     "execution_count": 26,
     "metadata": {},
     "output_type": "execute_result"
    }
   ],
   "source": [
    "# Approximate the FOPTD sum\n",
    "k,t,l = fotdsum(k, 12.8, t, 16.7, l, 1.)\n",
    "# Plot\n",
    "y1, time = fotd(12.8, 16.7, 1., time)\n",
    "y = y+y1\n",
    "yM, time = fotd(k,t,l, time)\n",
    "\n",
    "# Use of area based methods\n",
    "# Use decap\n",
    "yD = y[:np.argmax(y)]\n",
    "tD = time[:np.argmax(y)]\n",
    "kA = yD[-1]#print(np.argmax(y))\n",
    "TAR = 1./kA*np.trapz(yD[-1]-yD,tD)\n",
    "tA = 1./kA*np.exp(1)*(np.trapz(yD[np.where(time<TAR)], tD[np.where(time<TAR)]))\n",
    "lA = np.max([TAR-tA,0.])\n",
    "kA = np.mean(y[-5])\n",
    "yA, time = fotd(kA,tA,lA,time)\n",
    "\n",
    "plt.clf()\n",
    "plt.plot(time,y, label = \"Original\")\n",
    "#plt.plot(time,y1)\n",
    "#plt.plot(time,y-y1)\n",
    "plt.plot(time,yM, label = \"Analytic Reduction\")\n",
    "plt.plot(time,yA, label = \"Area Based Approximation\")\n",
    "plt.grid(True)\n",
    "plt.xlabel('Time')\n",
    "plt.ylabel('y')\n",
    "plt.legend(loc = \"lower right\")\n",
    "plt.savefig('WoodBerry_Dynamic_Approx.png')\n",
    "plt.show()\n",
    "\n",
    "print(k,t,l)\n",
    "print(kA,tA,lA)\n",
    "AMIGO(kA,tA,lA)"
   ]
  },
  {
   "cell_type": "code",
   "execution_count": 8,
   "metadata": {},
   "outputs": [
    {
     "data": {
      "image/png": "[encoded data removed]",
      "text/plain": [
       "<matplotlib.figure.Figure at 0x7f5daaa887b8>"
      ]
     },
     "metadata": {},
     "output_type": "display_data"
    }
   ],
   "source": [
    "# Approximate the second transfer function model\n",
    "k,t,l = dt2ptd2foptd(18.9/19.4*6.6,21.,10.9,11.,16.7)\n",
    "# Plot the approximation and the sum\n",
    "tf = 18.9/19.4*6.6*cn.tf([16.7,1],[21.0*10.9,21.0+10.9,1])\n",
    "num, den = cn.pade(11,10)\n",
    "tf = tf*cn.tf(num,den)\n",
    "y, time = cn.step(tf,np.arange(0,100,0.1))\n",
    "yM, time = fotd(k,t,l, time)\n",
    "# Plot the systems\n",
    "plt.clf()\n",
    "plt.plot(time,y)\n",
    "plt.plot(time, yM)\n",
    "plt.grid(True)\n",
    "plt.xlabel('Time')\n",
    "plt.ylabel('y')\n",
    "plt.show()\n"
   ]
  },
  {
   "cell_type": "code",
   "execution_count": 9,
   "metadata": {},
   "outputs": [
    {
     "data": {
      "image/png": "[encoded data removed]",
      "text/plain": [
       "<matplotlib.figure.Figure at 0x7f5da69ebc18>"
      ]
     },
     "metadata": {},
     "output_type": "display_data"
    },
    {
     "name": "stdout",
     "output_type": "stream",
     "text": [
      "-12.970103092783503 16.1351164454 3.0\n"
     ]
    },
    {
     "data": {
      "text/plain": [
       "(-0.10188122335533614, 12.279006845128794, -0.0082971876015977171)"
      ]
     },
     "execution_count": 9,
     "metadata": {},
     "output_type": "execute_result"
    }
   ],
   "source": [
    "# Approximate the FOPTD sum\n",
    "k,t,l = fotdsum(k, -19.4, t, 14.4, l, 3.)\n",
    "# Plot\n",
    "y1, time = fotd(-19.4, 14.4, 3., time)\n",
    "y = y+y1\n",
    "yM, time = fotd(k,t,l, time)\n",
    "plt.clf()\n",
    "plt.plot(time,y)\n",
    "plt.plot(time,yM)\n",
    "plt.grid(True)\n",
    "plt.xlabel('Time')\n",
    "plt.ylabel('y')\n",
    "plt.show()\n",
    "\n",
    "print(k,t,l)\n",
    "AMIGO(k,t,l)"
   ]
  },
  {
   "cell_type": "markdown",
   "metadata": {},
   "source": [
    "# Rosenbrock\n",
    "## Decentralized"
   ]
  },
  {
   "cell_type": "code",
   "execution_count": 7,
   "metadata": {},
   "outputs": [
    {
     "data": {
      "text/plain": [
       "(2.823553719008264, 0.6076872246696036, 4.646393085757917)"
      ]
     },
     "execution_count": 7,
     "metadata": {},
     "output_type": "execute_result"
    }
   ],
   "source": [
    "# First and second controller\n",
    "AMIGO(1.,1.,0.)"
   ]
  },
  {
   "cell_type": "markdown",
   "metadata": {},
   "source": [
    "## Simple Static Decoupling"
   ]
  },
  {
   "cell_type": "code",
   "execution_count": 5,
   "metadata": {},
   "outputs": [
    {
     "data": {
      "image/png": "[encoded data removed]",
      "text/plain": [
       "<matplotlib.figure.Figure at 0x7f7e21560320>"
      ]
     },
     "metadata": {},
     "output_type": "display_data"
    },
    {
     "name": "stdout",
     "output_type": "stream",
     "text": [
      "0.33333333333333337 1.16666666667 1.16666666667\n"
     ]
    },
    {
     "data": {
      "text/plain": [
       "(0.74999999999999978, 1.1666666666666667, 0.64285714285714257)"
      ]
     },
     "execution_count": 5,
     "metadata": {},
     "output_type": "execute_result"
    }
   ],
   "source": [
    "# Approximate the first function of Rosenbrock\n",
    "k,t,l = fotdsum(1.,-2./3,1.,1./3.,0.,.0)\n",
    "# Plot the approximation and the sum\n",
    "y1,time = fotd(1.,1.,.0,np.arange(0,20,0.1))\n",
    "y2,time = fotd(-2./3.,1./3.,0.,time)\n",
    "yA,time = fotd(k,t,l,time)\n",
    "\n",
    "# Plot the systems\n",
    "plt.clf()\n",
    "plt.plot(time,y1+y2)\n",
    "plt.plot(time, yA)\n",
    "plt.grid(True)\n",
    "plt.xlabel('Time')\n",
    "plt.ylabel('y')\n",
    "plt.show()\n",
    "\n",
    "# Print Parameter\n",
    "print(k,t,l)\n",
    "AMIGO(k,t,l)"
   ]
  },
  {
   "cell_type": "code",
   "execution_count": 8,
   "metadata": {},
   "outputs": [
    {
     "data": {
      "text/plain": [
       "(8.470661157024793, 0.6076872246696036, 13.939179257273754)"
      ]
     },
     "execution_count": 8,
     "metadata": {},
     "output_type": "execute_result"
    }
   ],
   "source": [
    "# Second AMIGO, transfer function is easy calculateable\n",
    "AMIGO(1./3.,1.,0.)"
   ]
  },
  {
   "cell_type": "markdown",
   "metadata": {},
   "source": [
    "## Dynamic Simple Decoupling"
   ]
  },
  {
   "cell_type": "code",
   "execution_count": 10,
   "metadata": {},
   "outputs": [
    {
     "name": "stdout",
     "output_type": "stream",
     "text": [
      "0.33333333333333337 1.16666666667 1.16666666667\n"
     ]
    },
    {
     "data": {
      "text/plain": [
       "(0.74999999999999978, 1.1666666666666667, 0.64285714285714257)"
      ]
     },
     "execution_count": 10,
     "metadata": {},
     "output_type": "execute_result"
    }
   ],
   "source": [
    "# First and Second transferfunction\n",
    "k,t,l = fotdsum(1,-2./3., 1., 1./3., 0., 0.)\n",
    "print(k,t,l)\n",
    "AMIGO(k,t,l)"
   ]
  },
  {
   "cell_type": "markdown",
   "metadata": {},
   "source": [
    "# Experimental Data"
   ]
  },
  {
   "cell_type": "code",
   "execution_count": 3,
   "metadata": {
    "collapsed": true
   },
   "outputs": [],
   "source": [
    "# Model Structure: y = [Temp, Pres], u = [Fan, Valve]\n",
    "G = lambda s : np.array([[-0.29/(10.*s+1)*np.exp(-1.*s), 0.625/(8.*s+1)*np.exp(-3.*s)],[-.5/(75.*s+1)*np.exp(-2.*s), -1.75/(20.*s+1)*np.exp(-2.0*s)]])\n",
    "DetG = lambda s: np.linalg.det(G(s))\n",
    "G = np.vectorize(G)\n",
    "DetG = np.vectorize(DetG)\n",
    "s = np.arange(-.5,10,0.001)"
   ]
  },
  {
   "cell_type": "code",
   "execution_count": 4,
   "metadata": {},
   "outputs": [
    {
     "data": {
      "image/png": "[encoded data removed]",
      "text/plain": [
       "<matplotlib.figure.Figure at 0x7fef449abf28>"
      ]
     },
     "metadata": {},
     "output_type": "display_data"
    }
   ],
   "source": [
    "# Process has no RHP zeros ( numerical evaluation )\n",
    "# All methods are possible\n",
    "\n",
    "plt.clf()\n",
    "plt.semilogy(s,np.abs(DetG(s)))\n",
    "#plt.sem(s,np.zeros_like(s))\n",
    "#plt.ylim([-.1,.1])\n",
    "plt.show()"
   ]
  },
  {
   "cell_type": "code",
   "execution_count": 5,
   "metadata": {},
   "outputs": [
    {
     "data": {
      "text/plain": [
       "(-9.736392134511256, 6.076872246696035, -1.6022045123303166)"
      ]
     },
     "execution_count": 5,
     "metadata": {},
     "output_type": "execute_result"
    }
   ],
   "source": [
    "AMIGO(-0.29,10.,1.)"
   ]
  },
  {
   "cell_type": "code",
   "execution_count": 6,
   "metadata": {},
   "outputs": [
    {
     "data": {
      "text/plain": [
       "(-1.6134592680047222, 12.15374449339207, -0.13275408816451192)"
      ]
     },
     "execution_count": 6,
     "metadata": {},
     "output_type": "execute_result"
    }
   ],
   "source": [
    "AMIGO(-1.75,20., 2.)"
   ]
  },
  {
   "cell_type": "markdown",
   "metadata": {},
   "source": [
    "## Simple Static"
   ]
  },
  {
   "cell_type": "code",
   "execution_count": 7,
   "metadata": {},
   "outputs": [
    {
     "data": {
      "image/png": "[encoded data removed]",
      "text/plain": [
       "<matplotlib.figure.Figure at 0x7fef449ca588>"
      ]
     },
     "metadata": {},
     "output_type": "display_data"
    },
    {
     "name": "stdout",
     "output_type": "stream",
     "text": [
      "-0.11142857142857143 13.2051282051 1.0\n"
     ]
    },
    {
     "data": {
      "text/plain": [
       "(-25.339584657766469, 8.0245877103806631, -3.1577428738160598)"
      ]
     },
     "execution_count": 7,
     "metadata": {},
     "output_type": "execute_result"
    }
   ],
   "source": [
    "# Transfomed 11\n",
    "time = np.arange(0.,50., 0.1)\n",
    "y, time = fotd(-0.29, 10., 1., time) \n",
    "y, time  = y + fotd(0.5/1.75*0.625, 8., 3., time)\n",
    "k,t,l = fotdsum(-0.29, 0.5/1.75*0.625, 10., 8.0, 1., 3.)\n",
    "yM, time = fotd(k,t,l, time)\n",
    "plt.clf()\n",
    "plt.plot(time,y)\n",
    "plt.plot(time,yM)\n",
    "plt.show()\n",
    "print(k,t,l)\n",
    "AMIGO(k,t,l)"
   ]
  },
  {
   "cell_type": "code",
   "execution_count": 8,
   "metadata": {},
   "outputs": [
    {
     "data": {
      "image/png": "[encoded data removed]",
      "text/plain": [
       "<matplotlib.figure.Figure at 0x7fef4491b240>"
      ]
     },
     "metadata": {},
     "output_type": "display_data"
    },
    {
     "name": "stdout",
     "output_type": "stream",
     "text": [
      "-2.8275862068965516 40.9603658537 2.0\n"
     ]
    },
    {
     "data": {
      "text/plain": [
       "(-0.99857387623463012, 24.891091047061348, -0.04011772221421054)"
      ]
     },
     "execution_count": 8,
     "metadata": {},
     "output_type": "execute_result"
    }
   ],
   "source": [
    "# Transfomed 2\n",
    "time = np.arange(0.,400., 0.1)\n",
    "y, time = fotd(-1.75, 20., 2., time) \n",
    "y, time  = y + fotd(-0.625/0.29*0.5, 75., 2., time)\n",
    "k,t,l = fotdsum(-1.75, -0.625/0.29*0.5, 20., 75.0, 2., 2.)\n",
    "yM, time = fotd(k,t,l, time)\n",
    "plt.clf()\n",
    "plt.plot(time,y)\n",
    "plt.plot(time,yM)\n",
    "plt.show()\n",
    "print(k,t,l)\n",
    "AMIGO(k,t,l)"
   ]
  },
  {
   "cell_type": "markdown",
   "metadata": {},
   "source": [
    "## Dynamic"
   ]
  },
  {
   "cell_type": "code",
   "execution_count": 9,
   "metadata": {},
   "outputs": [
    {
     "name": "stdout",
     "output_type": "stream",
     "text": [
      "-0.4685714285714285 28.6737804878 1.0\n"
     ]
    },
    {
     "data": {
      "text/plain": [
       "(-6.025876839346906, 17.424690085419574, -0.34582404678687328)"
      ]
     },
     "execution_count": 9,
     "metadata": {},
     "output_type": "execute_result"
    }
   ],
   "source": [
    "# First transfer function\n",
    "kA,TA,LA = dt2ptd2foptd(-0.5/1.75*0.625,75.0,8.0,3.,20.)\n",
    "k,t,l = fotdsum(-.29,kA,10.,TA,1.,LA)\n",
    "print(k,t,l)\n",
    "AMIGO(k,t,l)"
   ]
  },
  {
   "cell_type": "code",
   "execution_count": 10,
   "metadata": {},
   "outputs": [
    {
     "name": "stdout",
     "output_type": "stream",
     "text": [
      "-5.5215517241379315 15.9016393443 2.0\n"
     ]
    },
    {
     "data": {
      "text/plain": [
       "(-0.38825107456512126, 10.623623866608684, -0.036546010988344632)"
      ]
     },
     "execution_count": 10,
     "metadata": {},
     "output_type": "execute_result"
    }
   ],
   "source": [
    "# Second transfer function\n",
    "kA,TA,LA = dt2ptd2foptd(-0.625/0.29*1.75,20.,8.0,4.,10.)\n",
    "k,t,l = fotdsum(-1.75,kA,20.,TA,2.,LA)\n",
    "print(k,t,l)\n",
    "AMIGO(k,t,l)"
   ]
  },
  {
   "cell_type": "markdown",
   "metadata": {},
   "source": [
    "# Inverted"
   ]
  },
  {
   "cell_type": "code",
   "execution_count": 11,
   "metadata": {},
   "outputs": [
    {
     "data": {
      "text/plain": [
       "(0.5235987755982988, 0.2617993877991494)"
      ]
     },
     "execution_count": 11,
     "metadata": {},
     "output_type": "execute_result"
    }
   ],
   "source": [
    "k11 = np.pi/(2.*3.*1.)\n",
    "k22 = np.pi/(2.*3.*2.)\n",
    "k11,k22"
   ]
  },
  {
   "cell_type": "code",
   "execution_count": 12,
   "metadata": {},
   "outputs": [
    {
     "data": {
      "text/plain": [
       "(-1.8055130193044788,\n",
       " -0.1495996501709425,\n",
       " 1.1936620731892151,\n",
       " -1.9098593171027443)"
      ]
     },
     "execution_count": 12,
     "metadata": {},
     "output_type": "execute_result"
    }
   ],
   "source": [
    "# First controller\n",
    "kp11 = k11 / -0.29\n",
    "kp22 = k22 / -1.75\n",
    "kd12 = 0.625 / k11\n",
    "kd21 = -0.5 / k22\n",
    "kp11,kp22, kd12, kd21"
   ]
  },
  {
   "cell_type": "markdown",
   "metadata": {},
   "source": [
    "# Multivariable PID"
   ]
  },
  {
   "cell_type": "code",
   "execution_count": 30,
   "metadata": {},
   "outputs": [
    {
     "data": {
      "text/plain": [
       "(0.82, 71.8375, 3.0)"
      ]
     },
     "execution_count": 30,
     "metadata": {},
     "output_type": "execute_result"
    }
   ],
   "source": [
    "# Simplify the determinant to FOTD\n",
    "# np.array([[-0.29/(10.*s+1)*np.exp(-1.*s), 0.625/(8.*s+1)*np.exp(-3.*s)],[-.5/(75.*s+1)*np.exp(-2.*s), -1.75/(20.*s+1)*np.exp(-2.0*s)]])\n",
    "fotdsum(0.29*1.75,0.625*0.5, 30., )"
   ]
  },
  {
   "cell_type": "code",
   "execution_count": 15,
   "metadata": {},
   "outputs": [
    {
     "data": {
      "text/plain": [
       "(0.82, 45.579268292682933, -1.0)"
      ]
     },
     "execution_count": 15,
     "metadata": {},
     "output_type": "execute_result"
    }
   ],
   "source": [
    "# FOTD Sum\n",
    "k,t,l = fotdsum(k1,-k2,t1,t2,l1,l2)\n",
    "k,t,l"
   ]
  },
  {
   "cell_type": "code",
   "execution_count": 19,
   "metadata": {},
   "outputs": [
    {
     "data": {
      "image/png": "[encoded data removed]",
      "text/plain": [
       "<matplotlib.figure.Figure at 0x7fef40dab940>"
      ]
     },
     "metadata": {},
     "output_type": "display_data"
    }
   ],
   "source": [
    "time = np.arange(0.,400.,0.1)\n",
    "y1, time = fotd(k1,t1,l1,time)\n",
    "y2, time = fotd(-k2, t2,l2, time)\n",
    "y, time = fotd(k,t,l, time)\n",
    "plt.clf()\n",
    "plt.plot(time, y)\n",
    "plt.plot(time, y1+y2)\n",
    "plt.show()"
   ]
  },
  {
   "cell_type": "code",
   "execution_count": 28,
   "metadata": {},
   "outputs": [
    {
     "data": {
      "text/plain": [
       "(-2.1341463414634148, 20.0, 1.0)"
      ]
     },
     "execution_count": 28,
     "metadata": {},
     "output_type": "execute_result"
    }
   ],
   "source": [
    "# Compute the dt...approx for the controller\n",
    "k,t,l = dt2ptd2foptd(-1.75/0.82,20.,0.,1.,45.)\n",
    "k,t,l"
   ]
  },
  {
   "cell_type": "code",
   "execution_count": null,
   "metadata": {
    "collapsed": true
   },
   "outputs": [],
   "source": [
    "k,t,l = dt2ptd2foptd()"
   ]
  },
  {
   "cell_type": "code",
   "execution_count": null,
   "metadata": {
    "collapsed": true
   },
   "outputs": [],
   "source": []
  }
 ],
 "metadata": {
  "kernelspec": {
   "display_name": "Python 2",
   "language": "python",
   "name": "python2"
  },
  "language_info": {
   "codemirror_mode": {
    "name": "ipython",
    "version": 2
   },
   "file_extension": ".py",
   "mimetype": "text/x-python",
   "name": "python",
   "nbconvert_exporter": "python",
   "pygments_lexer": "ipython2",
   "version": "2.7.13"
  }
 },
 "nbformat": 4,
 "nbformat_minor": 2
}
