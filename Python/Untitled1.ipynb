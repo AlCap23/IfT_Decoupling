{
 "cells": [
  {
   "cell_type": "code",
   "execution_count": 1,
   "metadata": {},
   "outputs": [],
   "source": [
    "import numpy as np\n",
    "import control as cn\n",
    "import matplotlib.pyplot as plt\n",
    "import paperfunction as pf"
   ]
  },
  {
   "cell_type": "code",
   "execution_count": 14,
   "metadata": {},
   "outputs": [
    {
     "data": {
      "image/png": "[encoded data removed]",
      "text/plain": [
       "<matplotlib.figure.Figure at 0x192119b7320>"
      ]
     },
     "metadata": {},
     "output_type": "display_data"
    }
   ],
   "source": [
    "# Make a system\n",
    "k = 10.\n",
    "t = 35.\n",
    "l = 3.\n",
    "num,den = cn.pade(l, 10)\n",
    "g = cn.tf(k,[t,1])*cn.tf(num,den)\n",
    "y,time = cn.step(g)\n",
    "plt.plot(time,y)\n",
    "plt.show()"
   ]
  },
  {
   "cell_type": "code",
   "execution_count": 15,
   "metadata": {},
   "outputs": [
    {
     "data": {
      "text/plain": [
       "(3.3453367374835254,\n",
       " 34.04151134180492,\n",
       " 0.16324210764561539,\n",
       " 0.45376671237989785)"
      ]
     },
     "execution_count": 15,
     "metadata": {},
     "output_type": "execute_result"
    }
   ],
   "source": [
    "kp, ki = pf.PI_TUNE(k,t,l)\n",
    "pi = (cn.tf(kp,1) + cn.tf([ki],[1.,0.]) )\n",
    "# Open Loop\n",
    "ol = g*pi\n",
    "cn.margin(ol)"
   ]
  },
  {
   "cell_type": "code",
   "execution_count": 4,
   "metadata": {},
   "outputs": [
    {
     "data": {
      "text/plain": [
       "(0.0057107026828100435,\n",
       " 66.503662528208068,\n",
       " 1.7462115719959099,\n",
       " 0.12707928525542628)"
      ]
     },
     "execution_count": 4,
     "metadata": {},
     "output_type": "execute_result"
    }
   ],
   "source": [
    "cn.margin(ol)"
   ]
  },
  {
   "cell_type": "code",
   "execution_count": null,
   "metadata": {
    "collapsed": true
   },
   "outputs": [],
   "source": []
  }
 ],
 "metadata": {
  "kernelspec": {
   "display_name": "Python 3",
   "language": "python",
   "name": "python3"
  },
  "language_info": {
   "codemirror_mode": {
    "name": "ipython",
    "version": 3
   },
   "file_extension": ".py",
   "mimetype": "text/x-python",
   "name": "python",
   "nbconvert_exporter": "python",
   "pygments_lexer": "ipython3",
   "version": "3.6.0"
  }
 },
 "nbformat": 4,
 "nbformat_minor": 2
}
