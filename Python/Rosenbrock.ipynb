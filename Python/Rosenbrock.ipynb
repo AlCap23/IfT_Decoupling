{
 "cells": [
  {
   "cell_type": "markdown",
   "metadata": {},
   "source": [
    "# Rosenbrocks system Analysis\n",
    "\n",
    "All needed information for controller design of Rosenbrocks system"
   ]
  },
  {
   "cell_type": "code",
   "execution_count": 1,
   "metadata": {
    "collapsed": true
   },
   "outputs": [],
   "source": [
    "# Import the needed packages\n",
    "import numpy as np\n",
    "import matplotlib.pyplot as plt\n",
    "import pandas as pd\n",
    "import control as cn\n",
    "import paperfunction as pf\n",
    "#import modelicares as mres"
   ]
  },
  {
   "cell_type": "markdown",
   "metadata": {},
   "source": [
    "## System evaluation\n",
    "\n",
    "Compute the poles and zeros of the tranfer function.\n",
    "\n",
    "First, get the approximation of the system which is decoupled via the simple static decoupler.\n",
    "\n",
    "$g^*_{11} = \\frac{1-s}{(s+1)(s+3)} $"
   ]
  },
  {
   "cell_type": "code",
   "execution_count": 2,
   "metadata": {},
   "outputs": [
    {
     "data": {
      "image/png": "[encoded data removed]",
      "text/plain": [
       "<matplotlib.figure.Figure at 0x293bf7a3518>"
      ]
     },
     "metadata": {},
     "output_type": "display_data"
    },
    {
     "data": {
      "text/plain": [
       "(0.33333333333333331, 1.1666666666666667, 1.1666666666666667)"
      ]
     },
     "execution_count": 2,
     "metadata": {},
     "output_type": "execute_result"
    }
   ],
   "source": [
    "# Get the real , delay free system\n",
    "g = cn.tf([-1.,1.],[1.,1.])*cn.tf([1./3.],[1./3.,1])\n",
    "# Get the static gain\n",
    "K = cn.dcgain(g)[0,0]\n",
    "# Normalize the transfer function\n",
    "g_Norm = 1/K * g\n",
    "# Get the numerator and denominator of the SISO function\n",
    "num = g_Norm.num[0][0]\n",
    "den = g_Norm.den[0][0]\n",
    "# Get the roots, -1/T_1, -1/T_2 ...\n",
    "num = np.roots(num)\n",
    "den = np.roots(den)\n",
    "# Get the Time Constants\n",
    "num = -1./num\n",
    "den = -1./den\n",
    "\n",
    "# Model Approximation via Skogestadt\n",
    "T,L = pf.MODEL_TO_FOTD(num, den, L = 0.)\n",
    "\n",
    "y, t = cn.step(g)\n",
    "yM = pf.Simulate_FOPTD(float(K),float(T),float(L), t)\n",
    "\n",
    "# Area Identification\n",
    "k2,t2,l2 = pf.FOTD_AREA_IDENTIFICATION(y,1.,t)\n",
    "yM2 = pf.Simulate_FOPTD(float(k2),float(t2),float(l2),t)\n",
    "plt.plot(t,y, label = \"Original\")\n",
    "plt.plot(t,yM, label = \"Skogestad\")\n",
    "plt.plot(t,yM2, label = \"Area Based\")\n",
    "plt.legend(loc = \"lower right\")\n",
    "plt.grid(True)\n",
    "plt.show()\n",
    "K,T,L"
   ]
  },
  {
   "cell_type": "markdown",
   "metadata": {},
   "source": [
    "So, the model is given by:\n",
    "\n",
    "$g^*_{11} = \\frac{1}{3} \\frac{1}{1.16666...s+1}e^{-1.166666s}$"
   ]
  },
  {
   "cell_type": "markdown",
   "metadata": {},
   "source": [
    "Since for a simple dynamic decoupler the transfer functions stays the same, the approximation holds further.\n",
    "\n",
    "The AMIGO parameter can be calculated to:"
   ]
  },
  {
   "cell_type": "code",
   "execution_count": 3,
   "metadata": {},
   "outputs": [
    {
     "data": {
      "text/plain": [
       "[1.3744467859455345, 1.5829052381096032]"
      ]
     },
     "execution_count": 3,
     "metadata": {},
     "output_type": "execute_result"
    }
   ],
   "source": [
    "# First controller\n",
    "c11,b11 = pf.AMIGO_TUNE(K,T,L)\n",
    "# Second controller, simple static decoupler g_22\n",
    "c22, b22 = pf.AMIGO_TUNE(K,1.,0.)\n",
    "\n",
    "pf.PI_TUNE(K,T,L)"
   ]
  },
  {
   "cell_type": "markdown",
   "metadata": {},
   "source": [
    "So the resulting controller for a simple static decoupler is given by:\n",
    "\n",
    "$c_{S,11} = 0.75 + \\frac{0.642...}{s}$ \n",
    "\n",
    "$c_{S,22} = 2.1748... + \\frac{2.5565...}{s}$\n",
    "\n",
    "And for a simple dynamic decoupler:\n",
    "\n",
    "$c_{D,11} = 0.75 + \\frac{0.642...}{s}$ \n",
    "\n",
    "$c_{D,22} = 0.75 + \\frac{0.642...}{s}$\n",
    "\n",
    "Now, the generalized multivariable controller is calculated. Since the process is hard to automate, look into the draft of the paper."
   ]
  },
  {
   "cell_type": "markdown",
   "metadata": {},
   "source": [
    "## Simulation\n",
    "\n",
    "Simulate the dymola systems via the interface."
   ]
  },
  {
   "cell_type": "code",
   "execution_count": 4,
   "metadata": {
    "collapsed": true
   },
   "outputs": [],
   "source": [
    "# General Information\n",
    "\n",
    "# Modelica Package name\n",
    "Package = \"Rosenbrock\"\n",
    "\n",
    "# Make an array of models to automate the evaluation\n",
    "models = ['Ideal','Decentralized', 'Static_Decoupling', 'Dynamic_Decoupling', 'Centralized_PID']\n",
    "\n",
    "# Model to simulate, here the folder and the modelica file containing the model needs to be specified.\n",
    "Model_Path = \"../Modelica/Rosenbrock.mo\"\n",
    "\n",
    "# Simulation Parameter, here the simulation parameter have to be specified.\n",
    "sim_parameter = {\n",
    "    \"stopTime\" : 1200,\n",
    "    \"Intervals\": 1e2,\n",
    "    \"OutputInterval\" : 0.1,\n",
    "    \"Stepsize\" : 0.1,\n",
    "    \"finalNames\" : [\"y_1\",\"y_2\",\"u_1\",\"u_2\", \"IAE_1.y\", \"IAE_2.y\", \"IE_1\", \"IE_2\"],\n",
    "}\n"
   ]
  },
  {
   "cell_type": "markdown",
   "metadata": {},
   "source": [
    "### System Analysis\n",
    "\n",
    "Analyze the system without gains."
   ]
  },
  {
   "cell_type": "code",
   "execution_count": null,
   "metadata": {},
   "outputs": [],
   "source": [
    "# Initialize the model\n",
    "model = pf.Initialize_Simulation(\"../Modelica/\"+Package+\".mo\", Show = False)\n",
    "\n",
    "# Make a plot\n",
    "plt.clf()\n",
    "fig, ax = plt.subplots(2, sharex = True, figsize = (20,16))\n",
    "\n",
    "# Loop over all models in the modelica file\n",
    "for model_names in models:\n",
    "\n",
    "    # Update the simulation parameter\n",
    "    sim_parameter.update({\"Model\":Package+\".\"+model_names, \"Result\": \"../Data/\"+Package+\"/\"+model_names})\n",
    "    # Run the current simulation\n",
    "    pf.Run_Simulation(model, sim_parameter)\n",
    "    # Get the result data\n",
    "    Data = pf.Simulation_Results(\"../Data/\"+Package+\"/\"+model_names+\".mat\")\n",
    "    # Apply the data to the plot\n",
    "    ax[0].plot(Data[\"time\"], Data[\"y_1\"], label = model_names)\n",
    "    ax[0].plot(Data[\"time\"], Data[\"u_1\"], color = 'k', linewidth = 1, linestyle = 'dashed', label = None)\n",
    "    \n",
    "    ax[1].plot(Data[\"time\"], Data[\"y_2\"], label = model_names)\n",
    "    ax[1].plot(Data[\"time\"], Data[\"u_2\"], color = 'k', linewidth = 1, linestyle = 'dashed', label = None)\n",
    "\n",
    "# Close the current simulation instance\n",
    "model.close()\n",
    "\n",
    "# Add the layout to the plot\n",
    "ax[1].legend()\n",
    "ax[0].set_ylabel('y_1')\n",
    "ax[0].grid(True)\n",
    "ax[1].set_ylabel('y_2')\n",
    "ax[1].set_xlabel('Time [s]')\n",
    "ax[1].grid(True)\n",
    "ax[0].set_xlim([399,601])\n",
    "plt.show()"
   ]
  },
  {
   "cell_type": "markdown",
   "metadata": {},
   "source": [
    "### Gain Study for Decentralized system\n",
    "\n",
    "Decentralized controlled system;\n",
    "\n",
    "Steps to be taken:\n",
    "- Get the system behaviour without additional gain\n",
    "- Amplify every gain K_11 / K_22 individually until the closed loop collapses\n",
    "- Amplify both gains until the closed loop collapses"
   ]
  },
  {
   "cell_type": "code",
   "execution_count": 11,
   "metadata": {},
   "outputs": [
    {
     "data": {
      "text/plain": [
       "0"
      ]
     },
     "execution_count": 11,
     "metadata": {},
     "output_type": "execute_result"
    }
   ],
   "source": [
    "# Gain Increment and maximum Gain\n",
    "dK = .1\n",
    "KMax = 70\n",
    "\n",
    "# Initialize the model\n",
    "model = pf.Initialize_Simulation(\"../Modelica/\"+Package+\".mo\")\n",
    "\n",
    "# Make a list for gain storage\n",
    "maximum_gains = {}\n",
    "\n",
    "# Loop over all models in the modelica file except \"Ideal\"\n",
    "for model_names in models:\n",
    "    \n",
    "    # Inner loop, increase the gain of u_1\n",
    "    # Make the gains\n",
    "    K = 1.\n",
    "    # Start with stable system\n",
    "    stability = True\n",
    "    \n",
    "    while stability:\n",
    "        # Increase the gain\n",
    "        if (K < KMax):\n",
    "            K = K + dK\n",
    "        else:\n",
    "            break\n",
    "        # Update the simulation parameter\n",
    "        sim_parameter.update({\"Model\":Package+\".\"+model_names, \"Result\": \"../Data/\"+Package+\"/\"+model_names+\"_K11\"})\n",
    "        sim_parameter.update({\"initialNames\":[\"K_11.k\", \"K_22.k\"], \"initialValues\":[K,1.]})\n",
    "        # Simulate the model\n",
    "        pf.Run_Simulation(model, sim_parameter)\n",
    "        # Load the results\n",
    "        Data = pf.Simulation_Results(\"../Data/\"+Package+\"/\"+model_names+\"_K11.mat\")\n",
    "        # Check the stability\n",
    "        stability = pf.Stability(Data[\"y1\"].values,Data[\"u1\"].values) and pf.Stability(Data[\"y2\"].values,Data[\"u2\"].values)\n",
    "\n",
    "\n",
    "    # Get the last stable gain\n",
    "    maximum_gains.update({model_names+\"_K11\" : K-dK})\n",
    "    \n",
    "    # Inner loop, increase the gain of u_2\n",
    "    # Make the gains\n",
    "    K = 1.\n",
    "    # Start with stable system\n",
    "    stability = True\n",
    "    \n",
    "    while stability:\n",
    "        # Increase the gain\n",
    "        if (K < KMax):\n",
    "            K = K + dK\n",
    "        else:\n",
    "            break\n",
    "        # Update the simulation parameter\n",
    "        sim_parameter.update({\"Model\":Package+\".\"+model_names, \"Result\": \"../Data/\"+Package+\"/\"+model_names+\"_K22\"})\n",
    "        sim_parameter.update({\"initialNames\":[\"K_11.k\", \"K_22.k\"], \"initialValues\":[1.,K]})\n",
    "        # Simulate the model\n",
    "        pf.Run_Simulation(model, sim_parameter)\n",
    "        # Load the results\n",
    "        Data = pf.Simulation_Results(\"../Data/\"+Package+\"/\"+model_names+\"_K22.mat\")\n",
    "        # Check the stability\n",
    "        stability = pf.Stability(Data[\"y1\"].values,Data[\"u1\"].values) and pf.Stability(Data[\"y2\"].values,Data[\"u2\"].values)\n",
    "    # Get the last stable gain\n",
    "    maximum_gains.update({model_names+\"_K22\" : K-dK})\n",
    "    \n",
    "    # Inner loop, increase the gain of u_1 and u_2\n",
    "    # Make the gains\n",
    "    #K = 1.\n",
    "    # Start with stable system\n",
    "    #stability = True\n",
    "    \n",
    "    #while stability:\n",
    "        # Increase the gain\n",
    "    #    if (K < KMax):\n",
    "    #        K = K + dK\n",
    "    #    else:\n",
    "    #        break\n",
    "        \n",
    "        # Update the simulation parameter\n",
    "    #    sim_parameter.update({\"Model\":Package+\".\"+model_names, \"Result\": \"../Data/\"+Package+\"/\"+model_names+\"_Gain\"})\n",
    "    #    sim_parameter.update({\"initialNames\":[\"K_11.k\", \"K_22.k\"], \"initialValues\":[K,K]})\n",
    "        # Simulate the model\n",
    "    #    pf.Run_Simulation(model, sim_parameter)\n",
    "        # Load the results\n",
    "    #    Data = pf.Simulation_Results(\"../Data/\"+Package+\"/\"+model_names+\"_Gain.mat\")\n",
    "        # Check the stability\n",
    "    #    stability = pf.Stability(Data[\"y1\"].values,Data[\"u1\"].values) and pf.Stability(Data[\"y2\"].values,Data[\"u2\"].values)\n",
    "    #    if K11 > KMax or K22 > KMax :\n",
    "    #        break\n",
    "    # Get the last stable gain\n",
    "    #maximum_gains.update({model_names+\"_K\" : K-dK})\n",
    "\n",
    "# Close the model\n",
    "model.close()    "
   ]
  },
  {
   "cell_type": "code",
   "execution_count": 12,
   "metadata": {},
   "outputs": [
    {
     "data": {
      "text/plain": [
       "{'Centralized_PID_K11': 5.799999999999996,\n",
       " 'Centralized_PID_K22': 5.799999999999996,\n",
       " 'Decentralized_K11': 1.7000000000000006,\n",
       " 'Decentralized_K22': 1.7000000000000006,\n",
       " 'Dynamic_Decoupling_K11': 69.9000000000003,\n",
       " 'Dynamic_Decoupling_K22': 69.9000000000003,\n",
       " 'Ideal_K11': 69.9000000000003,\n",
       " 'Ideal_K22': 69.9000000000003,\n",
       " 'Static_Decoupling_K11': 1.3000000000000003,\n",
       " 'Static_Decoupling_K22': 69.9000000000003}"
      ]
     },
     "execution_count": 12,
     "metadata": {},
     "output_type": "execute_result"
    }
   ],
   "source": [
    "maximum_gains"
   ]
  }
 ],
 "metadata": {
  "kernelspec": {
   "display_name": "Python 3",
   "language": "python",
   "name": "python3"
  },
  "language_info": {
   "codemirror_mode": {
    "name": "ipython",
    "version": 3
   },
   "file_extension": ".py",
   "mimetype": "text/x-python",
   "name": "python",
   "nbconvert_exporter": "python",
   "pygments_lexer": "ipython3",
   "version": "3.6.0"
  }
 },
 "nbformat": 4,
 "nbformat_minor": 2
}
