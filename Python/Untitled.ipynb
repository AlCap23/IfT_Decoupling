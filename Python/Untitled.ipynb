{
 "cells": [
  {
   "cell_type": "markdown",
   "metadata": {},
   "source": [
    "# Rosenbrocks system Analysis\n",
    "\n",
    "All needed information for controller design of Rosenbrocks system"
   ]
  },
  {
   "cell_type": "code",
   "execution_count": 1,
   "metadata": {
    "collapsed": true
   },
   "outputs": [],
   "source": [
    "# Import the needed packages\n",
    "import numpy as np\n",
    "import matplotlib.pyplot as plt\n",
    "import pandas as pd\n",
    "import control as cn\n",
    "import modelreduction as mr"
   ]
  },
  {
   "cell_type": "markdown",
   "metadata": {},
   "source": [
    "## System evaluation\n",
    "\n",
    "Compute the poles and zeros of the tranfer function."
   ]
  },
  {
   "cell_type": "code",
   "execution_count": 12,
   "metadata": {},
   "outputs": [],
   "source": [
    "G = cn.tf([[[1],[2./3.]],[[1],[1]]],[[[1,1],[1./3.,1]],[[1,1],[1,1]]])"
   ]
  },
  {
   "cell_type": "code",
   "execution_count": 1,
   "metadata": {},
   "outputs": [
    {
     "data": {
      "text/plain": [
       "{'Bla': 0.2, 'Model': 'Test'}"
      ]
     },
     "execution_count": 1,
     "metadata": {},
     "output_type": "execute_result"
    }
   ],
   "source": [
    "p = {\"Model\" : \"Test\", \"Bla\": 0.2}\n",
    "p"
   ]
  },
  {
   "cell_type": "code",
   "execution_count": 3,
   "metadata": {},
   "outputs": [
    {
     "data": {
      "text/plain": [
       "0.2"
      ]
     },
     "execution_count": 3,
     "metadata": {},
     "output_type": "execute_result"
    }
   ],
   "source": [
    "p[\"Bla\"]"
   ]
  },
  {
   "cell_type": "code",
   "execution_count": 4,
   "metadata": {},
   "outputs": [
    {
     "ename": "KeyError",
     "evalue": "'Dies'",
     "output_type": "error",
     "traceback": [
      "\u001b[1;31m---------------------------------------------------------------------------\u001b[0m",
      "\u001b[1;31mKeyError\u001b[0m                                  Traceback (most recent call last)",
      "\u001b[1;32m<ipython-input-4-4dc1dc7a8168>\u001b[0m in \u001b[0;36m<module>\u001b[1;34m()\u001b[0m\n\u001b[1;32m----> 1\u001b[1;33m \u001b[0mp\u001b[0m\u001b[1;33m[\u001b[0m\u001b[1;34m\"Dies\"\u001b[0m\u001b[1;33m]\u001b[0m \u001b[1;33m==\u001b[0m \u001b[0mNone\u001b[0m\u001b[1;33m\u001b[0m\u001b[0m\n\u001b[0m",
      "\u001b[1;31mKeyError\u001b[0m: 'Dies'"
     ]
    }
   ],
   "source": [
    "p[\"Dies\"] == None"
   ]
  },
  {
   "cell_type": "code",
   "execution_count": 5,
   "metadata": {},
   "outputs": [
    {
     "name": "stdout",
     "output_type": "stream",
     "text": [
      "No\n"
     ]
    }
   ],
   "source": [
    "if \"Dies\" in p:\n",
    "    print(\"Ja\")\n",
    "else:\n",
    "    print(\"No\")"
   ]
  },
  {
   "cell_type": "code",
   "execution_count": 1,
   "metadata": {},
   "outputs": [],
   "source": [
    "import modelreduction as mr"
   ]
  },
  {
   "cell_type": "code",
   "execution_count": 2,
   "metadata": {},
   "outputs": [],
   "source": [
    "dymola = mr.Initialize_Simulation(Path = \"../Modelica/Rosenbrock_Gain.mo\")"
   ]
  },
  {
   "cell_type": "code",
   "execution_count": 3,
   "metadata": {},
   "outputs": [],
   "source": [
    "parameter = {\"stopTime\": 1.0,\n",
    "            \"Intervals\": 20,\n",
    "            \"OutputInterval\": 0.5,\n",
    "            \"Stepsize\": 0.5,\n",
    "            \"Result\": \"Test\",\n",
    "            \"finalNames\": [\"y_1, y_2\"],\n",
    "            \"Model\" : \"Rosenbrock_Gain.Decentralized\"}\n",
    "mr.Run_Simulation(dymola, parameter)"
   ]
  },
  {
   "cell_type": "code",
   "execution_count": 5,
   "metadata": {},
   "outputs": [
    {
     "data": {
      "text/plain": [
       "[SimRes('C:\\Users\\juliu\\Documents\\IfT_Decoupling\\Modelica\\Test.mat')]"
      ]
     },
     "execution_count": 5,
     "metadata": {},
     "output_type": "execute_result"
    }
   ],
   "source": [
    "import modelicares as mres\n",
    "\n",
    "res, lins = mres.load(\"../Modelica/Test.mat\")\n",
    "res"
   ]
  },
  {
   "cell_type": "code",
   "execution_count": 6,
   "metadata": {},
   "outputs": [
    {
     "data": {
      "text/plain": [
       "array([ 0. ,  0.5,  1. ,  1. ], dtype=float32)"
      ]
     },
     "execution_count": 6,
     "metadata": {},
     "output_type": "execute_result"
    }
   ],
   "source": [
    "res[\"Time\"].values()[0]"
   ]
  },
  {
   "cell_type": "code",
   "execution_count": 13,
   "metadata": {},
   "outputs": [
    {
     "data": {
      "text/plain": [
       "3"
      ]
     },
     "execution_count": 13,
     "metadata": {},
     "output_type": "execute_result"
    }
   ],
   "source": [
    "import numpy as np\n",
    "pairs = np.array([0, 1, 3])\n",
    "pairs.max()"
   ]
  },
  {
   "cell_type": "code",
   "execution_count": 19,
   "metadata": {},
   "outputs": [
    {
     "data": {
      "text/plain": [
       "True"
      ]
     },
     "execution_count": 19,
     "metadata": {},
     "output_type": "execute_result"
    }
   ],
   "source": [
    "pairs.size == np.unique(pairs).size"
   ]
  },
  {
   "cell_type": "code",
   "execution_count": 4,
   "metadata": {},
   "outputs": [
    {
     "data": {
      "text/plain": [
       "\u001b[1;31mSignature:\u001b[0m \u001b[0mmr\u001b[0m\u001b[1;33m.\u001b[0m\u001b[0mDECENTAL_CONTROLLER\u001b[0m\u001b[1;33m(\u001b[0m\u001b[0mK\u001b[0m\u001b[1;33m,\u001b[0m \u001b[0mT\u001b[0m\u001b[1;33m,\u001b[0m \u001b[0mL\u001b[0m\u001b[1;33m,\u001b[0m \u001b[0mstructure\u001b[0m\u001b[1;33m=\u001b[0m\u001b[1;34m'PI'\u001b[0m\u001b[1;33m,\u001b[0m \u001b[0mpairing\u001b[0m\u001b[1;33m=\u001b[0m\u001b[1;33m<\u001b[0m\u001b[0mbuilt\u001b[0m\u001b[1;33m-\u001b[0m\u001b[1;32min\u001b[0m \u001b[0mfunction\u001b[0m \u001b[0mempty\u001b[0m\u001b[1;33m>\u001b[0m\u001b[1;33m)\u001b[0m\u001b[1;33m\u001b[0m\u001b[0m\n",
       "\u001b[1;31mDocstring:\u001b[0m\n",
       "Computes a decentralized controller for a given first order plus time delay system. Uses the AMIGO algorithm as given by Astroem et.al.\n",
       "\n",
       "Inputs:\n",
       "K : List of Lists of Floats or Numpy Array, Gain of the FOTD model.\n",
       "T : List of Lists of Floats or Numpy Array, Lag of the FOTD model\n",
       "L : List of Lists of Floats or Numpy Array, Delay of the FOTD model\n",
       "\n",
       "Optional Input:\n",
       "structure : String, Controller structure. Either \"PI\" or \"PID\".\n",
       "pairing: List of Floats or Numpy Array, Pairings for the decentralized controller. First entry contains the input used for controlling the first output.\n",
       "\n",
       "Returns:\n",
       "C: List of Arrays containing the controller Parameter.\n",
       "        KP : Numpy Array, Proportional Gain of the controller\n",
       "        KI : Numpy Array, Integral Gain of the controller\n",
       "        KD : Numpy Array, Integral Gain of the controller\n",
       "\u001b[1;31mFile:\u001b[0m      c:\\users\\juliu\\documents\\ift_decoupling\\python\\modelreduction.py\n",
       "\u001b[1;31mType:\u001b[0m      function\n"
      ]
     },
     "metadata": {},
     "output_type": "display_data"
    }
   ],
   "source": [
    "import modelreduction as mr\n",
    "import numpy as np\n",
    "K = [[1,2],[2,3]]\n",
    "T = [[2,3],[3,3]]\n",
    "L = [[0,0],[0,0]]\n",
    "pairing = [2,1]\n",
    "mr.DECENTAL_CONTROLLER?"
   ]
  },
  {
   "cell_type": "code",
   "execution_count": 5,
   "metadata": {},
   "outputs": [
    {
     "data": {
      "text/plain": [
       "True"
      ]
     },
     "execution_count": 5,
     "metadata": {},
     "output_type": "execute_result"
    }
   ],
   "source": [
    "outputs, inputs = np.array(K).shape\n",
    "pairing = np.array(pairing)\n",
    "pairing.any() <= inputs"
   ]
  },
  {
   "cell_type": "code",
   "execution_count": 11,
   "metadata": {},
   "outputs": [
    {
     "data": {
      "text/plain": [
       "False"
      ]
     },
     "execution_count": 11,
     "metadata": {},
     "output_type": "execute_result"
    }
   ],
   "source": [
    "np.all(pairing <= inputs)"
   ]
  },
  {
   "cell_type": "code",
   "execution_count": null,
   "metadata": {},
   "outputs": [],
   "source": []
  }
 ],
 "metadata": {
  "kernelspec": {
   "display_name": "Python 2",
   "language": "python",
   "name": "python2"
  },
  "language_info": {
   "codemirror_mode": {
    "name": "ipython",
    "version": 2
   },
   "file_extension": ".py",
   "mimetype": "text/x-python",
   "name": "python",
   "nbconvert_exporter": "python",
   "pygments_lexer": "ipython2",
   "version": "2.7.13"
  }
 },
 "nbformat": 4,
 "nbformat_minor": 2
}
