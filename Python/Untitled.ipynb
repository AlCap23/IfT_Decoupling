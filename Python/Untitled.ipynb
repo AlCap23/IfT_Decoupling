{
 "cells": [
  {
   "cell_type": "markdown",
   "metadata": {},
   "source": [
    "# Rosenbrocks system Analysis\n",
    "\n",
    "All needed information for controller design of Rosenbrocks system"
   ]
  },
  {
   "cell_type": "code",
   "execution_count": 1,
   "metadata": {
    "collapsed": true
   },
   "outputs": [],
   "source": [
    "# Import the needed packages\n",
    "import numpy as np\n",
    "import matplotlib.pyplot as plt\n",
    "import pandas as pd\n",
    "import control as cn\n",
    "import modelreduction as mr"
   ]
  },
  {
   "cell_type": "markdown",
   "metadata": {},
   "source": [
    "## System evaluation\n",
    "\n",
    "Compute the poles and zeros of the tranfer function."
   ]
  },
  {
   "cell_type": "code",
   "execution_count": 2,
   "metadata": {},
   "outputs": [
    {
     "data": {
      "text/plain": [
       "(array([[  1.00000000e+00,   1.38777878e-17],\n",
       "        [  0.00000000e+00,   1.00000000e+00]]),\n",
       " array([[ 12.02020202,  -0.2020202 ],\n",
       "        [  0.1010101 ,   9.98989899]]),\n",
       " array([[3, 0],\n",
       "        [0, 1]]))"
      ]
     },
     "execution_count": 2,
     "metadata": {},
     "output_type": "execute_result"
    }
   ],
   "source": [
    "K = np.array([[10,1],[1,10]])\n",
    "T = np.array([[10,10],[10,10]])\n",
    "L = np.array([[5,3],[2,1]])\n",
    "D = np.linalg.inv(K)\n",
    "mr.AREA_BASED_APPROXIMATION(K,T,L,D)"
   ]
  },
  {
   "cell_type": "code",
   "execution_count": null,
   "metadata": {},
   "outputs": [],
   "source": []
  }
 ],
 "metadata": {
  "kernelspec": {
   "display_name": "Python 2",
   "language": "python",
   "name": "python2"
  },
  "language_info": {
   "codemirror_mode": {
    "name": "ipython",
    "version": 2
   },
   "file_extension": ".py",
   "mimetype": "text/x-python",
   "name": "python",
   "nbconvert_exporter": "python",
   "pygments_lexer": "ipython2",
   "version": "2.7.13"
  }
 },
 "nbformat": 4,
 "nbformat_minor": 2
}
